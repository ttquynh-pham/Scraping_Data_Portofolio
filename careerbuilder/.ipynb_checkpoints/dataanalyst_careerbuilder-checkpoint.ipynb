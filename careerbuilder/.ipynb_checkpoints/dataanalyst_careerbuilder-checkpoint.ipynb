{
 "cells": [
  {
   "cell_type": "code",
   "execution_count": 55,
   "id": "03c7b682-3561-4c7d-b11c-384b311ae998",
   "metadata": {},
   "outputs": [],
   "source": [
    "from bs4 import BeautifulSoup as bs\n",
    "import requests, openpyxl\n",
    "import pandas as pd"
   ]
  },
  {
   "cell_type": "code",
   "execution_count": 59,
   "id": "daf41b6e-aa1d-46da-a784-d977ed39be74",
   "metadata": {},
   "outputs": [],
   "source": [
    "data = []\n",
    "\n",
    "try:\n",
    "    #access url \n",
    "    source = requests.get(\"https://careerbuilder.vn/viec-lam/Data-Analyst-tai-ha-noi-kl4-vi.html\", headers={'Accept-Language': 'en-US,en;q=0.8', 'User-Agent': 'whatever'})\n",
    "    source.raise_for_status()\n",
    "\n",
    "    #extract html source code of page\n",
    "    soup = bs(source.text, 'html.parser')\n",
    "\n",
    "    #find the html tag contains all info about jobs\n",
    "    jobs = soup.find('div', class_ = \"jobs-side-list\").find_all('div', class_ = 'job-item')\n",
    "\n",
    "    #extract each jobs info\n",
    "    for job in jobs:\n",
    "        company_name = job.find('div', class_ = \"caption\").a.text\n",
    "        job_title = job.find('a', class_ = \"job_link\").text.strip()\n",
    "        salary = job.find('div', class_ = \"salary\").get_text().split(':')[1]\n",
    "        location = job.find('div', class_ = \"location\").find('ul').get_text()\n",
    "        post_time = job.find('div', class_ = \"time\").get_text().split()[0]\n",
    "\n",
    "        data.append([company_name, job_title, salary, location, post_time])\n",
    "    \n",
    "    #create dataframe then save it to csv file\n",
    "    job_info_df = pd.DataFrame(data, columns=['Company Name', 'Job Title', 'Salary', 'Location', 'Post Time'])\n",
    "    job_info_df.to_csv(\"E:\\STUDY\\ANALYTICS PROJECTS\\PRACTICE\\Scrape Data Portofolio\\landingjob\\job_data_analyst.csv\", index=False)\n",
    "\n",
    "except Exception as e:\n",
    "    print(e)"
   ]
  }
 ],
 "metadata": {
  "kernelspec": {
   "display_name": "Python 3",
   "language": "python",
   "name": "python3"
  },
  "language_info": {
   "codemirror_mode": {
    "name": "ipython",
    "version": 3
   },
   "file_extension": ".py",
   "mimetype": "text/x-python",
   "name": "python",
   "nbconvert_exporter": "python",
   "pygments_lexer": "ipython3",
   "version": "3.8.8"
  }
 },
 "nbformat": 4,
 "nbformat_minor": 5
}
