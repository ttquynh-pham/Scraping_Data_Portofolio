{
 "cells": [
  {
   "cell_type": "code",
   "execution_count": 69,
   "id": "3af2bef6-0206-4444-a350-9a6ca7a8e7d2",
   "metadata": {},
   "outputs": [],
   "source": [
    "from bs4 import BeautifulSoup as bs\n",
    "import pandas as pd, requests"
   ]
  },
  {
   "cell_type": "code",
   "execution_count": 70,
   "id": "5a284def-e912-471f-9d2b-686bd471fb70",
   "metadata": {},
   "outputs": [
    {
     "name": "stdout",
     "output_type": "stream",
     "text": [
      "['https://careerbuilder.vn/viec-lam/Data-Analyst-tai-ha-noi-kl4-trang-1-vi.html', 'https://careerbuilder.vn/viec-lam/Data-Analyst-tai-ha-noi-kl4-trang-2-vi.html', 'https://careerbuilder.vn/viec-lam/Data-Analyst-tai-ha-noi-kl4-trang-3-vi.html']\n"
     ]
    }
   ],
   "source": [
    "#my solution is find all links with beautiful soup\n",
    "#then loop with each link to get data\n",
    "try:\n",
    "    url = \"https://careerbuilder.vn/viec-lam/Data-Analyst-tai-ha-noi-kl4-trang-1-vi.html\"\n",
    "    headers={'Accept-Language': 'en-US,en;q=0.8', 'User-Agent': 'whatever'}\n",
    "    source = requests.get(url, headers = headers)\n",
    "    soup = bs(source.text, \"html.parser\")\n",
    "\n",
    "except Exception as e:\n",
    "    print(e)\n",
    "\n",
    "#append link of page 1 in urls list\n",
    "urls = []\n",
    "urls.append(url)\n",
    "\n",
    "#find the tag contains all links in pagination\n",
    "pagination = soup.find('div', {'class': 'pagination'})\n",
    "\n",
    "#get all href tags\n",
    "pages = pagination.find_all('a')\n",
    "\n",
    "for page in pages:\n",
    "    #because page 1 is actived so pass it\n",
    "    if (page.get_text() == '1'):\n",
    "        continue\n",
    "    else:\n",
    "    #get others links and then save it in urls\n",
    "        urls.append(page['href'])\n",
    "\n",
    "unique_urls = []\n",
    "#just get unique urls\n",
    "for url in urls:\n",
    "    if url not in unique_urls:\n",
    "        unique_urls.append(url)\n",
    "\n",
    "print(unique_urls)   "
   ]
  },
  {
   "cell_type": "code",
   "execution_count": 71,
   "id": "052d6a36-aa68-4b7b-9565-1dce5be1fed8",
   "metadata": {},
   "outputs": [],
   "source": [
    "#get data\n",
    "data = []\n",
    "for url in unique_urls:\n",
    "    \n",
    "    source = requests.get(url, headers = headers)\n",
    "    soup = bs(source.text, \"html.parser\")\n",
    "    #find the html tag contains all info about jobs\n",
    "    jobs = soup.find('div', class_ = \"jobs-side-list\").find_all('div', class_ = 'job-item')\n",
    "\n",
    "    #extract each jobs info\n",
    "    for job in jobs:\n",
    "        company_name = job.find('div', class_ = \"caption\").a.text\n",
    "        job_title = job.find('div', class_ = \"title\").find('a', class_ = \"job_link\").get_text().split()\n",
    "        job_title = ' '.join(job_title)\n",
    "        salary = job.find('div', class_ = \"salary\").get_text().split(':')[1]\n",
    "        location = job.find('div', class_ = \"location\").find('ul').get_text()\n",
    "        post_time = job.find('div', class_ = \"time\").get_text().split()[0]\n",
    "\n",
    "        data.append([company_name, job_title, salary, location, post_time])\n",
    "\n",
    " #create dataframe then save it to csv file\n",
    "job_info_df = pd.DataFrame(data, columns=['Company Name', 'Job Title', 'Salary', 'Location', 'Post Time'])\n",
    "job_info_df.to_csv(\"E:\\STUDY\\ANALYTICS PROJECTS\\PRACTICE\\Scrape Data Portofolio\\careerbuilder\\job_data_analyst.csv\", index=False, encoding='utf-8-sig')        \n",
    "\n"
   ]
  }
 ],
 "metadata": {
  "kernelspec": {
   "display_name": "Python 3",
   "language": "python",
   "name": "python3"
  },
  "language_info": {
   "codemirror_mode": {
    "name": "ipython",
    "version": 3
   },
   "file_extension": ".py",
   "mimetype": "text/x-python",
   "name": "python",
   "nbconvert_exporter": "python",
   "pygments_lexer": "ipython3",
   "version": "3.8.8"
  }
 },
 "nbformat": 4,
 "nbformat_minor": 5
}
